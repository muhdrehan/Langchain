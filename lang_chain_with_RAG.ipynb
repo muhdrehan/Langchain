{
  "nbformat": 4,
  "nbformat_minor": 0,
  "metadata": {
    "colab": {
      "provenance": [],
      "include_colab_link": true
    },
    "kernelspec": {
      "name": "python3",
      "display_name": "Python 3"
    },
    "language_info": {
      "name": "python"
    }
  },
  "cells": [
    {
      "cell_type": "markdown",
      "metadata": {
        "id": "view-in-github",
        "colab_type": "text"
      },
      "source": [
        "<a href=\"https://colab.research.google.com/github/muhdrehan/Langchain/blob/main/lang_chain_with_RAG.ipynb\" target=\"_parent\"><img src=\"https://colab.research.google.com/assets/colab-badge.svg\" alt=\"Open In Colab\"/></a>"
      ]
    },
    {
      "cell_type": "markdown",
      "source": [
        "### Setup langchain with RAG libraries"
      ],
      "metadata": {
        "id": "UTJ_0gfpPWBH"
      }
    },
    {
      "cell_type": "code",
      "execution_count": null,
      "metadata": {
        "colab": {
          "base_uri": "https://localhost:8080/"
        },
        "collapsed": true,
        "id": "_Nrqspj0PK5W",
        "outputId": "65cd1ab4-bba4-4cd7-9ed4-0b61ff435df6"
      },
      "outputs": [
        {
          "output_type": "stream",
          "name": "stdout",
          "text": [
            "Requirement already satisfied: langchain in /usr/local/lib/python3.10/dist-packages (0.3.14)\n",
            "Collecting pinecone\n",
            "  Downloading pinecone-5.4.2-py3-none-any.whl.metadata (19 kB)\n",
            "Collecting langchain-google-genai\n",
            "  Downloading langchain_google_genai-2.0.8-py3-none-any.whl.metadata (3.6 kB)\n",
            "Requirement already satisfied: PyYAML>=5.3 in /usr/local/lib/python3.10/dist-packages (from langchain) (6.0.2)\n",
            "Requirement already satisfied: SQLAlchemy<3,>=1.4 in /usr/local/lib/python3.10/dist-packages (from langchain) (2.0.36)\n",
            "Requirement already satisfied: aiohttp<4.0.0,>=3.8.3 in /usr/local/lib/python3.10/dist-packages (from langchain) (3.11.11)\n",
            "Requirement already satisfied: async-timeout<5.0.0,>=4.0.0 in /usr/local/lib/python3.10/dist-packages (from langchain) (4.0.3)\n",
            "Requirement already satisfied: langchain-core<0.4.0,>=0.3.29 in /usr/local/lib/python3.10/dist-packages (from langchain) (0.3.29)\n",
            "Requirement already satisfied: langchain-text-splitters<0.4.0,>=0.3.3 in /usr/local/lib/python3.10/dist-packages (from langchain) (0.3.5)\n",
            "Requirement already satisfied: langsmith<0.3,>=0.1.17 in /usr/local/lib/python3.10/dist-packages (from langchain) (0.2.10)\n",
            "Requirement already satisfied: numpy<2,>=1.22.4 in /usr/local/lib/python3.10/dist-packages (from langchain) (1.26.4)\n",
            "Requirement already satisfied: pydantic<3.0.0,>=2.7.4 in /usr/local/lib/python3.10/dist-packages (from langchain) (2.10.4)\n",
            "Requirement already satisfied: requests<3,>=2 in /usr/local/lib/python3.10/dist-packages (from langchain) (2.32.3)\n",
            "Requirement already satisfied: tenacity!=8.4.0,<10,>=8.1.0 in /usr/local/lib/python3.10/dist-packages (from langchain) (9.0.0)\n",
            "Requirement already satisfied: certifi>=2019.11.17 in /usr/local/lib/python3.10/dist-packages (from pinecone) (2024.12.14)\n",
            "Collecting pinecone-plugin-inference<4.0.0,>=2.0.0 (from pinecone)\n",
            "  Downloading pinecone_plugin_inference-3.1.0-py3-none-any.whl.metadata (2.2 kB)\n",
            "Collecting pinecone-plugin-interface<0.0.8,>=0.0.7 (from pinecone)\n",
            "  Downloading pinecone_plugin_interface-0.0.7-py3-none-any.whl.metadata (1.2 kB)\n",
            "Requirement already satisfied: python-dateutil>=2.5.3 in /usr/local/lib/python3.10/dist-packages (from pinecone) (2.8.2)\n",
            "Requirement already satisfied: tqdm>=4.64.1 in /usr/local/lib/python3.10/dist-packages (from pinecone) (4.67.1)\n",
            "Requirement already satisfied: typing-extensions>=3.7.4 in /usr/local/lib/python3.10/dist-packages (from pinecone) (4.12.2)\n",
            "Requirement already satisfied: urllib3>=1.26.0 in /usr/local/lib/python3.10/dist-packages (from pinecone) (2.3.0)\n",
            "Collecting filetype<2.0.0,>=1.2.0 (from langchain-google-genai)\n",
            "  Downloading filetype-1.2.0-py2.py3-none-any.whl.metadata (6.5 kB)\n",
            "Requirement already satisfied: google-generativeai<0.9.0,>=0.8.0 in /usr/local/lib/python3.10/dist-packages (from langchain-google-genai) (0.8.3)\n",
            "Requirement already satisfied: aiohappyeyeballs>=2.3.0 in /usr/local/lib/python3.10/dist-packages (from aiohttp<4.0.0,>=3.8.3->langchain) (2.4.4)\n",
            "Requirement already satisfied: aiosignal>=1.1.2 in /usr/local/lib/python3.10/dist-packages (from aiohttp<4.0.0,>=3.8.3->langchain) (1.3.2)\n",
            "Requirement already satisfied: attrs>=17.3.0 in /usr/local/lib/python3.10/dist-packages (from aiohttp<4.0.0,>=3.8.3->langchain) (24.3.0)\n",
            "Requirement already satisfied: frozenlist>=1.1.1 in /usr/local/lib/python3.10/dist-packages (from aiohttp<4.0.0,>=3.8.3->langchain) (1.5.0)\n",
            "Requirement already satisfied: multidict<7.0,>=4.5 in /usr/local/lib/python3.10/dist-packages (from aiohttp<4.0.0,>=3.8.3->langchain) (6.1.0)\n",
            "Requirement already satisfied: propcache>=0.2.0 in /usr/local/lib/python3.10/dist-packages (from aiohttp<4.0.0,>=3.8.3->langchain) (0.2.1)\n",
            "Requirement already satisfied: yarl<2.0,>=1.17.0 in /usr/local/lib/python3.10/dist-packages (from aiohttp<4.0.0,>=3.8.3->langchain) (1.18.3)\n",
            "Requirement already satisfied: google-ai-generativelanguage==0.6.10 in /usr/local/lib/python3.10/dist-packages (from google-generativeai<0.9.0,>=0.8.0->langchain-google-genai) (0.6.10)\n",
            "Requirement already satisfied: google-api-core in /usr/local/lib/python3.10/dist-packages (from google-generativeai<0.9.0,>=0.8.0->langchain-google-genai) (2.19.2)\n",
            "Requirement already satisfied: google-api-python-client in /usr/local/lib/python3.10/dist-packages (from google-generativeai<0.9.0,>=0.8.0->langchain-google-genai) (2.155.0)\n",
            "Requirement already satisfied: google-auth>=2.15.0 in /usr/local/lib/python3.10/dist-packages (from google-generativeai<0.9.0,>=0.8.0->langchain-google-genai) (2.27.0)\n",
            "Requirement already satisfied: protobuf in /usr/local/lib/python3.10/dist-packages (from google-generativeai<0.9.0,>=0.8.0->langchain-google-genai) (4.25.5)\n",
            "Requirement already satisfied: proto-plus<2.0.0dev,>=1.22.3 in /usr/local/lib/python3.10/dist-packages (from google-ai-generativelanguage==0.6.10->google-generativeai<0.9.0,>=0.8.0->langchain-google-genai) (1.25.0)\n",
            "Requirement already satisfied: jsonpatch<2.0,>=1.33 in /usr/local/lib/python3.10/dist-packages (from langchain-core<0.4.0,>=0.3.29->langchain) (1.33)\n",
            "Requirement already satisfied: packaging<25,>=23.2 in /usr/local/lib/python3.10/dist-packages (from langchain-core<0.4.0,>=0.3.29->langchain) (24.2)\n",
            "Requirement already satisfied: httpx<1,>=0.23.0 in /usr/local/lib/python3.10/dist-packages (from langsmith<0.3,>=0.1.17->langchain) (0.28.1)\n",
            "Requirement already satisfied: orjson<4.0.0,>=3.9.14 in /usr/local/lib/python3.10/dist-packages (from langsmith<0.3,>=0.1.17->langchain) (3.10.13)\n",
            "Requirement already satisfied: requests-toolbelt<2.0.0,>=1.0.0 in /usr/local/lib/python3.10/dist-packages (from langsmith<0.3,>=0.1.17->langchain) (1.0.0)\n",
            "Requirement already satisfied: annotated-types>=0.6.0 in /usr/local/lib/python3.10/dist-packages (from pydantic<3.0.0,>=2.7.4->langchain) (0.7.0)\n",
            "Requirement already satisfied: pydantic-core==2.27.2 in /usr/local/lib/python3.10/dist-packages (from pydantic<3.0.0,>=2.7.4->langchain) (2.27.2)\n",
            "Requirement already satisfied: six>=1.5 in /usr/local/lib/python3.10/dist-packages (from python-dateutil>=2.5.3->pinecone) (1.17.0)\n",
            "Requirement already satisfied: charset-normalizer<4,>=2 in /usr/local/lib/python3.10/dist-packages (from requests<3,>=2->langchain) (3.4.1)\n",
            "Requirement already satisfied: idna<4,>=2.5 in /usr/local/lib/python3.10/dist-packages (from requests<3,>=2->langchain) (3.10)\n",
            "Requirement already satisfied: greenlet!=0.4.17 in /usr/local/lib/python3.10/dist-packages (from SQLAlchemy<3,>=1.4->langchain) (3.1.1)\n",
            "Requirement already satisfied: googleapis-common-protos<2.0.dev0,>=1.56.2 in /usr/local/lib/python3.10/dist-packages (from google-api-core->google-generativeai<0.9.0,>=0.8.0->langchain-google-genai) (1.66.0)\n",
            "Requirement already satisfied: cachetools<6.0,>=2.0.0 in /usr/local/lib/python3.10/dist-packages (from google-auth>=2.15.0->google-generativeai<0.9.0,>=0.8.0->langchain-google-genai) (5.5.0)\n",
            "Requirement already satisfied: pyasn1-modules>=0.2.1 in /usr/local/lib/python3.10/dist-packages (from google-auth>=2.15.0->google-generativeai<0.9.0,>=0.8.0->langchain-google-genai) (0.4.1)\n",
            "Requirement already satisfied: rsa<5,>=3.1.4 in /usr/local/lib/python3.10/dist-packages (from google-auth>=2.15.0->google-generativeai<0.9.0,>=0.8.0->langchain-google-genai) (4.9)\n",
            "Requirement already satisfied: anyio in /usr/local/lib/python3.10/dist-packages (from httpx<1,>=0.23.0->langsmith<0.3,>=0.1.17->langchain) (3.7.1)\n",
            "Requirement already satisfied: httpcore==1.* in /usr/local/lib/python3.10/dist-packages (from httpx<1,>=0.23.0->langsmith<0.3,>=0.1.17->langchain) (1.0.7)\n",
            "Requirement already satisfied: h11<0.15,>=0.13 in /usr/local/lib/python3.10/dist-packages (from httpcore==1.*->httpx<1,>=0.23.0->langsmith<0.3,>=0.1.17->langchain) (0.14.0)\n",
            "Requirement already satisfied: jsonpointer>=1.9 in /usr/local/lib/python3.10/dist-packages (from jsonpatch<2.0,>=1.33->langchain-core<0.4.0,>=0.3.29->langchain) (3.0.0)\n",
            "Requirement already satisfied: httplib2<1.dev0,>=0.19.0 in /usr/local/lib/python3.10/dist-packages (from google-api-python-client->google-generativeai<0.9.0,>=0.8.0->langchain-google-genai) (0.22.0)\n",
            "Requirement already satisfied: google-auth-httplib2<1.0.0,>=0.2.0 in /usr/local/lib/python3.10/dist-packages (from google-api-python-client->google-generativeai<0.9.0,>=0.8.0->langchain-google-genai) (0.2.0)\n",
            "Requirement already satisfied: uritemplate<5,>=3.0.1 in /usr/local/lib/python3.10/dist-packages (from google-api-python-client->google-generativeai<0.9.0,>=0.8.0->langchain-google-genai) (4.1.1)\n",
            "Requirement already satisfied: grpcio<2.0dev,>=1.33.2 in /usr/local/lib/python3.10/dist-packages (from google-api-core[grpc]!=2.0.*,!=2.1.*,!=2.10.*,!=2.2.*,!=2.3.*,!=2.4.*,!=2.5.*,!=2.6.*,!=2.7.*,!=2.8.*,!=2.9.*,<3.0.0dev,>=1.34.1->google-ai-generativelanguage==0.6.10->google-generativeai<0.9.0,>=0.8.0->langchain-google-genai) (1.69.0)\n",
            "Requirement already satisfied: grpcio-status<2.0.dev0,>=1.33.2 in /usr/local/lib/python3.10/dist-packages (from google-api-core[grpc]!=2.0.*,!=2.1.*,!=2.10.*,!=2.2.*,!=2.3.*,!=2.4.*,!=2.5.*,!=2.6.*,!=2.7.*,!=2.8.*,!=2.9.*,<3.0.0dev,>=1.34.1->google-ai-generativelanguage==0.6.10->google-generativeai<0.9.0,>=0.8.0->langchain-google-genai) (1.62.3)\n",
            "Requirement already satisfied: pyparsing!=3.0.0,!=3.0.1,!=3.0.2,!=3.0.3,<4,>=2.4.2 in /usr/local/lib/python3.10/dist-packages (from httplib2<1.dev0,>=0.19.0->google-api-python-client->google-generativeai<0.9.0,>=0.8.0->langchain-google-genai) (3.2.1)\n",
            "Requirement already satisfied: pyasn1<0.7.0,>=0.4.6 in /usr/local/lib/python3.10/dist-packages (from pyasn1-modules>=0.2.1->google-auth>=2.15.0->google-generativeai<0.9.0,>=0.8.0->langchain-google-genai) (0.6.1)\n",
            "Requirement already satisfied: sniffio>=1.1 in /usr/local/lib/python3.10/dist-packages (from anyio->httpx<1,>=0.23.0->langsmith<0.3,>=0.1.17->langchain) (1.3.1)\n",
            "Requirement already satisfied: exceptiongroup in /usr/local/lib/python3.10/dist-packages (from anyio->httpx<1,>=0.23.0->langsmith<0.3,>=0.1.17->langchain) (1.2.2)\n",
            "Downloading pinecone-5.4.2-py3-none-any.whl (427 kB)\n",
            "\u001b[2K   \u001b[90m━━━━━━━━━━━━━━━━━━━━━━━━━━━━━━━━━━━━━━━━\u001b[0m \u001b[32m427.3/427.3 kB\u001b[0m \u001b[31m7.3 MB/s\u001b[0m eta \u001b[36m0:00:00\u001b[0m\n",
            "\u001b[?25hDownloading langchain_google_genai-2.0.8-py3-none-any.whl (41 kB)\n",
            "\u001b[2K   \u001b[90m━━━━━━━━━━━━━━━━━━━━━━━━━━━━━━━━━━━━━━━━\u001b[0m \u001b[32m41.5/41.5 kB\u001b[0m \u001b[31m3.2 MB/s\u001b[0m eta \u001b[36m0:00:00\u001b[0m\n",
            "\u001b[?25hDownloading filetype-1.2.0-py2.py3-none-any.whl (19 kB)\n",
            "Downloading pinecone_plugin_inference-3.1.0-py3-none-any.whl (87 kB)\n",
            "\u001b[2K   \u001b[90m━━━━━━━━━━━━━━━━━━━━━━━━━━━━━━━━━━━━━━━━\u001b[0m \u001b[32m87.5/87.5 kB\u001b[0m \u001b[31m7.9 MB/s\u001b[0m eta \u001b[36m0:00:00\u001b[0m\n",
            "\u001b[?25hDownloading pinecone_plugin_interface-0.0.7-py3-none-any.whl (6.2 kB)\n",
            "Installing collected packages: filetype, pinecone-plugin-interface, pinecone-plugin-inference, pinecone, langchain-google-genai\n",
            "Successfully installed filetype-1.2.0 langchain-google-genai-2.0.8 pinecone-5.4.2 pinecone-plugin-inference-3.1.0 pinecone-plugin-interface-0.0.7\n"
          ]
        }
      ],
      "source": [
        "%pip install langchain pinecone langchain-google-genai"
      ]
    },
    {
      "cell_type": "markdown",
      "source": [
        "### Pinecone Setup"
      ],
      "metadata": {
        "id": "7_ZUFoAaQunv"
      }
    },
    {
      "cell_type": "code",
      "source": [
        "from google.colab import userdata\n",
        "PINE_CONE_API_KEY = userdata.get('PINE_CONE_API_KEY')"
      ],
      "metadata": {
        "id": "YJZVERWiRCdP"
      },
      "execution_count": null,
      "outputs": []
    },
    {
      "cell_type": "code",
      "source": [
        "# Import the Pinecone library\n",
        "from pinecone import Pinecone, ServerlessSpec\n",
        "\n",
        "# Initialize a Pinecone client with your API key\n",
        "pc = Pinecone(api_key=PINE_CONE_API_KEY)"
      ],
      "metadata": {
        "id": "7tnlR26ZQ1_j"
      },
      "execution_count": null,
      "outputs": []
    },
    {
      "cell_type": "markdown",
      "source": [
        "#### Pinecone Index Setup"
      ],
      "metadata": {
        "id": "3y9uGpg3SdtZ"
      }
    },
    {
      "cell_type": "code",
      "source": [
        "# Define index name\n",
        "index_name = \"pc-rag-test-index\"\n",
        "\n",
        "# Create or connect to Pinecone index\n",
        "if index_name not in pc.list_indexes():\n",
        "    pc.create_index(\n",
        "      name=index_name,\n",
        "      dimension=768,\n",
        "      metric=\"cosine\",\n",
        "      spec=ServerlessSpec(\n",
        "          cloud=\"aws\",\n",
        "          region=\"us-east-1\"\n",
        "      )\n",
        "    )\n",
        "index = pc.Index(index_name)"
      ],
      "metadata": {
        "id": "nVrv0hs-SjMG"
      },
      "execution_count": null,
      "outputs": []
    },
    {
      "cell_type": "markdown",
      "source": [
        "#### Setup a RAG document setup"
      ],
      "metadata": {
        "id": "SE4fzaKgVVen"
      }
    },
    {
      "cell_type": "code",
      "source": [
        "%pip install -Uq langchain-community langchain-google-genai langchain-pinecone"
      ],
      "metadata": {
        "colab": {
          "base_uri": "https://localhost:8080/"
        },
        "collapsed": true,
        "id": "2g1PvDWjTwIN",
        "outputId": "5e245ffe-5980-4fb9-95ee-8fa159ef58ad"
      },
      "execution_count": null,
      "outputs": [
        {
          "output_type": "stream",
          "name": "stdout",
          "text": [
            "\u001b[?25l   \u001b[90m━━━━━━━━━━━━━━━━━━━━━━━━━━━━━━━━━━━━━━━━\u001b[0m \u001b[32m0.0/1.2 MB\u001b[0m \u001b[31m?\u001b[0m eta \u001b[36m-:--:--\u001b[0m\r\u001b[2K   \u001b[91m━━━━━━━━━━\u001b[0m\u001b[90m╺\u001b[0m\u001b[90m━━━━━━━━━━━━━━━━━━━━━━━━━━━━━\u001b[0m \u001b[32m0.3/1.2 MB\u001b[0m \u001b[31m8.9 MB/s\u001b[0m eta \u001b[36m0:00:01\u001b[0m\r\u001b[2K   \u001b[91m━━━━━━━━━━━━━━━━━━━━━━━━━━━━━━━━━━━━━━━\u001b[0m\u001b[91m╸\u001b[0m \u001b[32m1.2/1.2 MB\u001b[0m \u001b[31m18.8 MB/s\u001b[0m eta \u001b[36m0:00:01\u001b[0m\r\u001b[2K   \u001b[90m━━━━━━━━━━━━━━━━━━━━━━━━━━━━━━━━━━━━━━━━\u001b[0m \u001b[32m1.2/1.2 MB\u001b[0m \u001b[31m14.8 MB/s\u001b[0m eta \u001b[36m0:00:00\u001b[0m\n",
            "\u001b[?25h\u001b[?25l   \u001b[90m━━━━━━━━━━━━━━━━━━━━━━━━━━━━━━━━━━━━━━━━\u001b[0m \u001b[32m0.0/49.5 kB\u001b[0m \u001b[31m?\u001b[0m eta \u001b[36m-:--:--\u001b[0m\r\u001b[2K   \u001b[90m━━━━━━━━━━━━━━━━━━━━━━━━━━━━━━━━━━━━━━━━\u001b[0m \u001b[32m49.5/49.5 kB\u001b[0m \u001b[31m3.5 MB/s\u001b[0m eta \u001b[36m0:00:00\u001b[0m\n",
            "\u001b[?25h\u001b[31mERROR: pip's dependency resolver does not currently take into account all the packages that are installed. This behaviour is the source of the following dependency conflicts.\n",
            "pinecone-client 5.0.1 requires pinecone-plugin-inference<2.0.0,>=1.0.3, but you have pinecone-plugin-inference 3.1.0 which is incompatible.\u001b[0m\u001b[31m\n",
            "\u001b[0m"
          ]
        }
      ]
    },
    {
      "cell_type": "markdown",
      "source": [
        "#### Setup Gemini embeddig model"
      ],
      "metadata": {
        "id": "keTr66r8t6Qv"
      }
    },
    {
      "cell_type": "code",
      "source": [
        "from google.colab import userdata\n",
        "import os\n",
        "\n",
        "os.environ[\"GOOGLE_API_KEY\"] = userdata.get('GOOGLE_API_KEY')"
      ],
      "metadata": {
        "id": "ol4TYVgeuEIW"
      },
      "execution_count": null,
      "outputs": []
    },
    {
      "cell_type": "code",
      "source": [
        "from langchain_google_genai import GoogleGenerativeAIEmbeddings\n",
        "\n",
        "embeddings = GoogleGenerativeAIEmbeddings(model=\"models/embedding-001\")"
      ],
      "metadata": {
        "id": "gNkGVugouSt9"
      },
      "execution_count": null,
      "outputs": []
    },
    {
      "cell_type": "code",
      "source": [
        "from langchain.document_loaders import PyPDFLoader\n",
        "\n",
        "# Load PDF using LangChain's PyPDFLoader\n",
        "def load_pdf(filepath):\n",
        "    loader = PyPDFLoader(filepath)\n",
        "    return loader.load()"
      ],
      "metadata": {
        "id": "nTwMek7jVjR7"
      },
      "execution_count": null,
      "outputs": []
    },
    {
      "cell_type": "code",
      "source": [
        "# Load the PDF content\n",
        "documents = load_pdf(\"/content/AHSAN_ALI_CV.pdf\")"
      ],
      "metadata": {
        "id": "dA1RTxU4uin2"
      },
      "execution_count": null,
      "outputs": []
    },
    {
      "cell_type": "code",
      "source": [
        "documents"
      ],
      "metadata": {
        "colab": {
          "base_uri": "https://localhost:8080/"
        },
        "collapsed": true,
        "id": "8_XNZ0V2vCoA",
        "outputId": "7e7be2e6-1361-4412-db79-000676b3f0ea"
      },
      "execution_count": null,
      "outputs": [
        {
          "output_type": "execute_result",
          "data": {
            "text/plain": [
              "[Document(metadata={'source': '/content/AHSAN_ALI_CV.pdf', 'page': 0}, page_content='AHSANALI+92-342-2897587Email:ahsan.ali429@gmail.comLinkedin:https://www.linkedin.com/in/swe-ahsan-ali/Location:Karachi,Pakistan\\nCAREERSUMMARY:\\nResults-orientedsoftwareengineerwith9+ yearsof experiencein theSoftwareDevelopmentIndustry,including2 yearsof internationalexperience(Omanand SaudiArabia).Skilledin monolithicandmicroservicesarchitectures,withhands-onexpertiseacrossvariousbusinessdomains,includingFinTech,DigitalBanking,Insurance,SalesandDistribution(SnD),E-commerce,Ride-Hailing,andTelecomIndustries.Strongproficiencyin Java,SpringBoot,Kubernetes,andAWS,witha focusondeliveringhigh-qualitysoftwaresolutions.\\nPROFESSIONALWORKINGEXPERIENCE:\\n▪ SeniorTechnicalConsultant-Java August2022-PresentProximus,Belgium(viaS4DigitalPvt.Ltd)Karachi,Pakistan\\nResponsibilities:•WorkingwithJava8+andSpringBootfordevelopingRESTandSOAPAPIsinamicroservicesarchitecture.•ManagingdeploymentsusingKubernetesandOCP4,withJenkinsforautomation.•ImprovingdeploymentefficiencyusingGitLabCI/CDpipelines.•Collaboratingwithcross-functionalteamsusingJiraandTPforprojectmanagement.\\n▪ SoftwareEngineerII June2021-July2022CareemNetworkPvt.Ltd.(anUberCompany)Karachi,Pakistan\\nResponsibilities:•WorkedonJava(SpringBoot)Applications/Micro-servicesArchitecture.•WorkedonJava8+withSpringBoot(WebServices/Rest&SOAPAPIs).•WorkedonMicroservicesarchitectureusingSpringBoot/Flask.•WorkedonApacheKafka-MesageStreaming•WorkedonPythonapplications(FlaskandScripts)•WorkedonDocker•WorkedonAWSCloud/K8•WorkedonTerraform(InfraAsCode)•WorkedonJenkins(BuildAutomation)•WorkedonJira(ForTaskManagement)'),\n",
              " Document(metadata={'source': '/content/AHSAN_ALI_CV.pdf', 'page': 1}, page_content='▪ SeniorSoftwareEngineer Feb2019-May2021XpertDigitalPvt.Ltd.Karachi,Pakistan\\nResponsibilities:•WorkedonKonyV7/V8andQuantumandFFI’s.•WorkedonJAVAServices•WorkedonKonyMobileFabric(PreandPostprocessors,Integration/Orchestration/Object/IdentityServices)\\n▪ SeniorSoftwareDeveloper/TechnicalConsultant Mar2020-Feb2021BankAlbilad(BAB).(ContractualThroughXpertDigital)Riyadh,SaudiArabia.\\nResponsibilities:\\n•WorkedonRetailMobileBankingApp(RMB).•WorkedonRemittanceApp-EnjazMobileBanking(EMB).•WorkedonmanyCRsuponBank’srequirements.•WorkedontheUpgradationofKonyV7toV8.•UsedofIBMWebSphereApplicationServer,\\n▪ SeniorSoftwareDeveloper/ TechnicalConsultant May2019-Feb2020NationalBankOfOman(NBO).(ContractualThroughXpertDigital)Muscat,Oman.\\nResponsibilities:•WorkedonMobileWalletinRetailMobileBankingApp.•WorkedonDigitalOnboardinginRetailMobileBankingApp.•WorkedonQRScanningandGenerationusingFFIin RetailMobileBankingApp..•ConvertedthewholeNBOapplicationtoSPA.•SupportfortheirexistingRetailMobileBankingApp.'),\n",
              " Document(metadata={'source': '/content/AHSAN_ALI_CV.pdf', 'page': 2}, page_content='▪ SeniorSoftwareDeveloper-Android Mar2018-Feb2019CentegyTechnologies(SidatHyderMorshed).Karachi,Pakistan\\nResponsibilities:•Translatedesignsandwireframesintohigh-qualitycode.•Design,build,andmaintainhigh-performance,reusable,andreliableJavacode•Ensurethebestpossibleperformance,quality,andresponsivenessoftheapplication•Unit-testcodeforrobustness,includingedgecases,usability,andgeneralreliability•Workonbugfixingandimprovingapplicationperformance•Continuouslydiscover,evaluate,andimplementnewtechnologiestomaximizedevelopmentefficiency\\n▪ SoftwareEngineer-Android Apr2017-Mar2018AxactPvtLtd.Karachi,Pakistan\\nResponsibilities:• PlanatimelinefortheProject• DesignAllcomponentsinaProject• DevelopfrontendandbackendofApp• ReleaseprojectsinthePlayStore• Helpotherstosolvesomeproblems\\n▪ MobileApplicationDeveloper Feb2015-Mar2017DoozieLabsPvt.Ltd.Karachi,Pakistan\\nResponsibilities:•Readandunderstandtheassignedfunctionalandengineeringspecs.•Writingqualitysourcecodethatmeetsdefinedprojectstandardsanddeadlines.•Performstestingonsourcecodepriortohandovertotheleadforreview.•Performsmaintenanceonsourcecode,analyzingandfixingnecessaryandassignedbugs.•Responsibilitiesinvolvedesign,development&maintenancesupportforMobileApplications.'),\n",
              " Document(metadata={'source': '/content/AHSAN_ALI_CV.pdf', 'page': 3}, page_content='QUALIFICATION:\\n▪ MuhammadAliJinnahUniversity-MAJU June2024Master’sinComputerScience(AIandDataScience)-(MSCS)CGPA:3.9/4\\n▪ UniversityofKarachi-UoK Dec2016Bachelor’sinComputerScience-(BSCS)CGPA:3.06/4\\n▪ Govt.DegreeCollegeMalirCantt 2012HigherSecondaryCertificate-HSC/InterIntermediateinPre-engineeringGrade:A\\nSKILLSANDINTERESTS:\\n▪ ProgrammingLanguages(Expert):Java,Python,Node.js.▪ ProgrammingLanguages(Familiar):PHP,C/C++,C#,SQL,JavaScript▪ LowCodePlatforms:Mendix,KonyV9/V8/V7▪ CloudPlatforms:AWS,Kubernetes,Terraform.▪ Frameworks:SpringBoot,Flask,Angular,Ionic,ExpressJS.▪ Tools:Git,Jenkins,Jira,Docker.▪ VersionControl:Git,Bitbucket,GitHub,TFS.▪ Databases:MySQL,SQLite,MongoDB\\nACHIEVEMENTS:\\n▪ Pakistan’sFirstKonyCertifiedBackendAssociates.▪ SuccessfullydeployedRetailMobileBankingAppatNationalBankofOman(Muscat,Oman).▪ DeliveredtheRemittanceApp(Enjaz)atBankAlbilad(Riyadh,SaudiArabia).▪ Pakistan’sfirstKonyCertifiedBackendAssociate.▪ MentoredateamofdevelopersinobtainingKonyTemenosdevelopercertification.▪ ExternalEvaluatorinMAJUforFYP2023'),\n",
              " Document(metadata={'source': '/content/AHSAN_ALI_CV.pdf', 'page': 4}, page_content=\"PROFESSIONALPORTFOLIO:\\n▪ ProximusAppDesc:Telecomservicesappformanagingaccountsandservices)Link:https://play.google.com/store/search?q=proximus&c=apps&hl=en&gl=US▪ Careem-Ride-HailingAppDesc:Ride-hailingappwhereIworkedonJava(SpringBoot)microservicesandbackendservices.Link:https://play.google.com/store/apps/details?id=com.careem.acma&hl=en&gl=US▪ RetailMobileBanking(RMB)-BankAlbiladDesc:Contributedtomobilebankingfeatures,includingremittanceandaccountmanagement.Link:https://play.google.com/store/apps/details?id=com.BankAlBilad&hl=en&gl=US▪ EnjazMobileBanking(EMB)-BankAlbiladDesc:Ledthedevelopmentoftheremittancemobilebankingapp.Link:https://play.google.com/store/apps/details?id=com.BankAlBilad.EnjazApp&hl=en&gl=US▪ NationalBankOfOman(NBO)Desc:.ImplementedmobilewalletandQRcodefunctionalityintheRetailMobileBankingApp.Link:https://play.google.com/store/apps/details?id=com.nbo.mobs&hl=en&gl=US▪ MUZN-IslamicBankingDesc:MuznIslamicmobilebankingappforNBOservicesLink:https://play.google.com/store/apps/details?id=com.muzn.mobs▪ QuranAcademyDesc:QuranApplicationforausertolearnusingagamemethodologiesandcreateleaderboardsLink:https://play.google.com/store/apps/details?id=com.quranacademy.qurancompanion.memorizequran&hl=en▪ HealthandGeneralInsuranceAppDesc:InsuranceapptomanagehealthinsuranceLink:https://play.google.com/store/apps/details?id=com.analytics.tashfa_Prod▪ BolGameShowhttps://play.google.com/store/apps/details?id=com.bol.gameshowapp&hl=en▪ SalesandDistribution(SnD)App-InHouseDesc:SalesandDistributionappthatisbasedonB2Barchitectureandhelpstocommunicateandtoselltheirproducts.▪ OnlineMarketPlaceAppDesc:Userscanbuyandselltheirproducts,ithasaparallelsystemforcustomersrunningsidebyside.PeoplewhowishtosellandbuyanygoodscanuploadorbrowseadvertisementsinacategorylikeAnimals,RealEstate,Autos,etc,Orinthenearestplaceusinglocationjustlikeoneisexpectedtodoinaclassifiedsportal.▪ FoodOrderingAppDesc:Theapp'sgoalistoempowerhomemadefoodtradebusinessesworldwideandbuildasocietyofsharingeconomybyconnectingpeopletogetherthroughadditionalincomeandasocialmarketplaceappthatalsoimplementsdeliverysystemslikeCareemorothersfordeliveryoffooddoortodoor.▪ ServiceProviders/VendorsAppDesc:VendorscanregisterinanappandcancreateanonlinerestaurantandselltheirproductsandalsochatwithusersAppuserscanregisterasacustomerandbuyaproductandchatwithvendors.▪ QuizManagementAppDesc:Userscantakepartinaquizandearnpointsandwindifferentprizes.▪ E-commerceAppDesc:Userscanbuyaproduct,checkoutinanypaymentmethod,anddeliveraproduct.▪ OmnicertDesc:Userscanuploadtheirdocumentsandmanagedocumentsexpiryandvalidityetc.▪ Thewarehouse-twhapp▪ News&WeatherApp(Android)▪ MuslimConsumers▪ MitsubishiRecruitmentTest-WebProject▪ Filld(iOS)-HybridApp\")]"
            ]
          },
          "metadata": {},
          "execution_count": 18
        }
      ]
    },
    {
      "cell_type": "code",
      "source": [
        "from langchain_pinecone import PineconeVectorStore\n",
        "\n",
        "vector_store = PineconeVectorStore(index=index, embedding=embeddings)\n",
        "vector_store.add_documents(documents=documents)\n",
        "print(\"CV content embedded and stored in Pinecone.\")"
      ],
      "metadata": {
        "colab": {
          "base_uri": "https://localhost:8080/"
        },
        "id": "zn1dJ1Mu4w20",
        "outputId": "a925a85b-7f83-463b-b81c-74a509e33653"
      },
      "execution_count": null,
      "outputs": [
        {
          "output_type": "execute_result",
          "data": {
            "text/plain": [
              "['98e2d2c5-7ed7-4cbb-ae72-d9cb051a45b2',\n",
              " '58ad2914-bc81-40c6-8852-96b9943488f4',\n",
              " '71bcdc14-2523-4da9-a34f-09a74e2d2976',\n",
              " '6fcf6cdd-3ab9-4904-ac95-c588638cd67c',\n",
              " '54804300-8fa5-4bf1-b35f-b7a3a2bb61e0']"
            ]
          },
          "metadata": {},
          "execution_count": 60
        }
      ]
    },
    {
      "cell_type": "code",
      "source": [
        "vector_store.similarity_search(\"matric\")"
      ],
      "metadata": {
        "colab": {
          "base_uri": "https://localhost:8080/"
        },
        "collapsed": true,
        "id": "v0iOc0IH8eBD",
        "outputId": "94f88e71-5096-4b3b-81be-a2ad973fe0c4"
      },
      "execution_count": null,
      "outputs": [
        {
          "output_type": "execute_result",
          "data": {
            "text/plain": [
              "[Document(id='6fcf6cdd-3ab9-4904-ac95-c588638cd67c', metadata={'page': 3.0, 'source': '/content/AHSAN_ALI_CV.pdf'}, page_content='QUALIFICATION:\\n▪ MuhammadAliJinnahUniversity-MAJU June2024Master’sinComputerScience(AIandDataScience)-(MSCS)CGPA:3.9/4\\n▪ UniversityofKarachi-UoK Dec2016Bachelor’sinComputerScience-(BSCS)CGPA:3.06/4\\n▪ Govt.DegreeCollegeMalirCantt 2012HigherSecondaryCertificate-HSC/InterIntermediateinPre-engineeringGrade:A\\nSKILLSANDINTERESTS:\\n▪ ProgrammingLanguages(Expert):Java,Python,Node.js.▪ ProgrammingLanguages(Familiar):PHP,C/C++,C#,SQL,JavaScript▪ LowCodePlatforms:Mendix,KonyV9/V8/V7▪ CloudPlatforms:AWS,Kubernetes,Terraform.▪ Frameworks:SpringBoot,Flask,Angular,Ionic,ExpressJS.▪ Tools:Git,Jenkins,Jira,Docker.▪ VersionControl:Git,Bitbucket,GitHub,TFS.▪ Databases:MySQL,SQLite,MongoDB\\nACHIEVEMENTS:\\n▪ Pakistan’sFirstKonyCertifiedBackendAssociates.▪ SuccessfullydeployedRetailMobileBankingAppatNationalBankofOman(Muscat,Oman).▪ DeliveredtheRemittanceApp(Enjaz)atBankAlbilad(Riyadh,SaudiArabia).▪ Pakistan’sfirstKonyCertifiedBackendAssociate.▪ MentoredateamofdevelopersinobtainingKonyTemenosdevelopercertification.▪ ExternalEvaluatorinMAJUforFYP2023'),\n",
              " Document(id='54804300-8fa5-4bf1-b35f-b7a3a2bb61e0', metadata={'page': 4.0, 'source': '/content/AHSAN_ALI_CV.pdf'}, page_content=\"PROFESSIONALPORTFOLIO:\\n▪ ProximusAppDesc:Telecomservicesappformanagingaccountsandservices)Link:https://play.google.com/store/search?q=proximus&c=apps&hl=en&gl=US▪ Careem-Ride-HailingAppDesc:Ride-hailingappwhereIworkedonJava(SpringBoot)microservicesandbackendservices.Link:https://play.google.com/store/apps/details?id=com.careem.acma&hl=en&gl=US▪ RetailMobileBanking(RMB)-BankAlbiladDesc:Contributedtomobilebankingfeatures,includingremittanceandaccountmanagement.Link:https://play.google.com/store/apps/details?id=com.BankAlBilad&hl=en&gl=US▪ EnjazMobileBanking(EMB)-BankAlbiladDesc:Ledthedevelopmentoftheremittancemobilebankingapp.Link:https://play.google.com/store/apps/details?id=com.BankAlBilad.EnjazApp&hl=en&gl=US▪ NationalBankOfOman(NBO)Desc:.ImplementedmobilewalletandQRcodefunctionalityintheRetailMobileBankingApp.Link:https://play.google.com/store/apps/details?id=com.nbo.mobs&hl=en&gl=US▪ MUZN-IslamicBankingDesc:MuznIslamicmobilebankingappforNBOservicesLink:https://play.google.com/store/apps/details?id=com.muzn.mobs▪ QuranAcademyDesc:QuranApplicationforausertolearnusingagamemethodologiesandcreateleaderboardsLink:https://play.google.com/store/apps/details?id=com.quranacademy.qurancompanion.memorizequran&hl=en▪ HealthandGeneralInsuranceAppDesc:InsuranceapptomanagehealthinsuranceLink:https://play.google.com/store/apps/details?id=com.analytics.tashfa_Prod▪ BolGameShowhttps://play.google.com/store/apps/details?id=com.bol.gameshowapp&hl=en▪ SalesandDistribution(SnD)App-InHouseDesc:SalesandDistributionappthatisbasedonB2Barchitectureandhelpstocommunicateandtoselltheirproducts.▪ OnlineMarketPlaceAppDesc:Userscanbuyandselltheirproducts,ithasaparallelsystemforcustomersrunningsidebyside.PeoplewhowishtosellandbuyanygoodscanuploadorbrowseadvertisementsinacategorylikeAnimals,RealEstate,Autos,etc,Orinthenearestplaceusinglocationjustlikeoneisexpectedtodoinaclassifiedsportal.▪ FoodOrderingAppDesc:Theapp'sgoalistoempowerhomemadefoodtradebusinessesworldwideandbuildasocietyofsharingeconomybyconnectingpeopletogetherthroughadditionalincomeandasocialmarketplaceappthatalsoimplementsdeliverysystemslikeCareemorothersfordeliveryoffooddoortodoor.▪ ServiceProviders/VendorsAppDesc:VendorscanregisterinanappandcancreateanonlinerestaurantandselltheirproductsandalsochatwithusersAppuserscanregisterasacustomerandbuyaproductandchatwithvendors.▪ QuizManagementAppDesc:Userscantakepartinaquizandearnpointsandwindifferentprizes.▪ E-commerceAppDesc:Userscanbuyaproduct,checkoutinanypaymentmethod,anddeliveraproduct.▪ OmnicertDesc:Userscanuploadtheirdocumentsandmanagedocumentsexpiryandvalidityetc.▪ Thewarehouse-twhapp▪ News&WeatherApp(Android)▪ MuslimConsumers▪ MitsubishiRecruitmentTest-WebProject▪ Filld(iOS)-HybridApp\"),\n",
              " Document(id='71bcdc14-2523-4da9-a34f-09a74e2d2976', metadata={'page': 2.0, 'source': '/content/AHSAN_ALI_CV.pdf'}, page_content='▪ SeniorSoftwareDeveloper-Android Mar2018-Feb2019CentegyTechnologies(SidatHyderMorshed).Karachi,Pakistan\\nResponsibilities:•Translatedesignsandwireframesintohigh-qualitycode.•Design,build,andmaintainhigh-performance,reusable,andreliableJavacode•Ensurethebestpossibleperformance,quality,andresponsivenessoftheapplication•Unit-testcodeforrobustness,includingedgecases,usability,andgeneralreliability•Workonbugfixingandimprovingapplicationperformance•Continuouslydiscover,evaluate,andimplementnewtechnologiestomaximizedevelopmentefficiency\\n▪ SoftwareEngineer-Android Apr2017-Mar2018AxactPvtLtd.Karachi,Pakistan\\nResponsibilities:• PlanatimelinefortheProject• DesignAllcomponentsinaProject• DevelopfrontendandbackendofApp• ReleaseprojectsinthePlayStore• Helpotherstosolvesomeproblems\\n▪ MobileApplicationDeveloper Feb2015-Mar2017DoozieLabsPvt.Ltd.Karachi,Pakistan\\nResponsibilities:•Readandunderstandtheassignedfunctionalandengineeringspecs.•Writingqualitysourcecodethatmeetsdefinedprojectstandardsanddeadlines.•Performstestingonsourcecodepriortohandovertotheleadforreview.•Performsmaintenanceonsourcecode,analyzingandfixingnecessaryandassignedbugs.•Responsibilitiesinvolvedesign,development&maintenancesupportforMobileApplications.'),\n",
              " Document(id='58ad2914-bc81-40c6-8852-96b9943488f4', metadata={'page': 1.0, 'source': '/content/AHSAN_ALI_CV.pdf'}, page_content='▪ SeniorSoftwareEngineer Feb2019-May2021XpertDigitalPvt.Ltd.Karachi,Pakistan\\nResponsibilities:•WorkedonKonyV7/V8andQuantumandFFI’s.•WorkedonJAVAServices•WorkedonKonyMobileFabric(PreandPostprocessors,Integration/Orchestration/Object/IdentityServices)\\n▪ SeniorSoftwareDeveloper/TechnicalConsultant Mar2020-Feb2021BankAlbilad(BAB).(ContractualThroughXpertDigital)Riyadh,SaudiArabia.\\nResponsibilities:\\n•WorkedonRetailMobileBankingApp(RMB).•WorkedonRemittanceApp-EnjazMobileBanking(EMB).•WorkedonmanyCRsuponBank’srequirements.•WorkedontheUpgradationofKonyV7toV8.•UsedofIBMWebSphereApplicationServer,\\n▪ SeniorSoftwareDeveloper/ TechnicalConsultant May2019-Feb2020NationalBankOfOman(NBO).(ContractualThroughXpertDigital)Muscat,Oman.\\nResponsibilities:•WorkedonMobileWalletinRetailMobileBankingApp.•WorkedonDigitalOnboardinginRetailMobileBankingApp.•WorkedonQRScanningandGenerationusingFFIin RetailMobileBankingApp..•ConvertedthewholeNBOapplicationtoSPA.•SupportfortheirexistingRetailMobileBankingApp.')]"
            ]
          },
          "metadata": {},
          "execution_count": 61
        }
      ]
    },
    {
      "cell_type": "markdown",
      "source": [
        "### LLM Introduce for RAG"
      ],
      "metadata": {
        "id": "sa7LyG_j85Ib"
      }
    },
    {
      "cell_type": "code",
      "source": [
        "from langchain_google_genai import ChatGoogleGenerativeAI\n",
        "\n",
        "llm = ChatGoogleGenerativeAI(model=\"gemini-1.5-flash\",\n",
        "                             api_key = GOOGLE_API_KEY\n",
        ")"
      ],
      "metadata": {
        "id": "-hHIjSO589wc"
      },
      "execution_count": null,
      "outputs": []
    },
    {
      "cell_type": "code",
      "source": [
        "from langchain_core.prompts import ChatPromptTemplate\n",
        "from langchain_core.runnables import RunnablePassthrough\n",
        "from langchain_core.runnables import RunnableLambda\n",
        "\n",
        "message = \"\"\"\n",
        "Answer this question using the provided context only.\n",
        "\n",
        "{question}\n",
        "\n",
        "Context:\n",
        "{context}\n",
        "\"\"\"\n",
        "\n",
        "\n",
        "retriever = RunnableLambda(vector_store.similarity_search)\n",
        "prompt = ChatPromptTemplate.from_messages([(\"human\", message)])\n",
        "rag_chain = {\"context\": retriever, \"question\": RunnablePassthrough()} | prompt | llm"
      ],
      "metadata": {
        "id": "jFu_pYMd9OtQ"
      },
      "execution_count": null,
      "outputs": []
    },
    {
      "cell_type": "code",
      "source": [
        "response = rag_chain.invoke(\"list down all the countries, cities he worked on? give in number format\")\n",
        "\n",
        "print(response.content)"
      ],
      "metadata": {
        "colab": {
          "base_uri": "https://localhost:8080/"
        },
        "id": "JbYb6h8V9w-a",
        "outputId": "82652055-1b88-43d9-c21e-e001edbdb5bc"
      },
      "execution_count": null,
      "outputs": [
        {
          "output_type": "stream",
          "name": "stdout",
          "text": [
            "1. Pakistan (Karachi)\n",
            "2. Saudi Arabia (Riyadh)\n",
            "3. Oman (Muscat)\n",
            "4. Belgium (implied, working remotely from Karachi, Pakistan)\n"
          ]
        }
      ]
    },
    {
      "cell_type": "code",
      "source": [
        "response = rag_chain.invoke(\"What's his phone number and list down the country name he is right now\")\n",
        "\n",
        "print(response.content)"
      ],
      "metadata": {
        "colab": {
          "base_uri": "https://localhost:8080/"
        },
        "id": "3lFUn0MKALZZ",
        "outputId": "677ea928-9439-4e81-972c-1af3bc3b3c0e"
      },
      "execution_count": null,
      "outputs": [
        {
          "output_type": "stream",
          "name": "stdout",
          "text": [
            "His phone number is +92-342-2897587.  He is currently located in Karachi, Pakistan.\n"
          ]
        }
      ]
    },
    {
      "cell_type": "code",
      "source": [
        "response = rag_chain.invoke(\"If he will do business, what things will help him based on his CV\")\n",
        "\n",
        "print(response.content)"
      ],
      "metadata": {
        "colab": {
          "base_uri": "https://localhost:8080/"
        },
        "id": "PexskGFFAXQy",
        "outputId": "e822047b-daed-4632-b4a2-02bce8c6970a"
      },
      "execution_count": null,
      "outputs": [
        {
          "output_type": "stream",
          "name": "stdout",
          "text": [
            "Based on his CV, Ahsan Ali's extensive experience in software development, particularly in Java, Spring Boot, Kubernetes, and AWS, along with his experience in various business domains (FinTech, Digital Banking, Insurance, Sales and Distribution, E-commerce, Ride-Hailing, and Telecom) will help him in his business endeavors.  His proven ability to deliver high-quality software solutions, manage deployments, and work with cross-functional teams are also significant assets.  His multiple certifications (e.g., Pakistan’s First Kony Certified Backend Associate) demonstrate his expertise and commitment to the field.\n"
          ]
        }
      ]
    }
  ]
}